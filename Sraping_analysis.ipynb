{
 "cells": [
  {
   "cell_type": "markdown",
   "metadata": {},
   "source": [
    "# Simple Bitcoin Sentements Measurement "
   ]
  },
  {
   "cell_type": "markdown",
   "metadata": {},
   "source": [
    "## Import Libraries "
   ]
  },
  {
   "cell_type": "code",
   "execution_count": 79,
   "metadata": {},
   "outputs": [
    {
     "name": "stdout",
     "output_type": "stream",
     "text": [
      "The autoreload extension is already loaded. To reload it, use:\n",
      "  %reload_ext autoreload\n"
     ]
    }
   ],
   "source": [
    "%load_ext autoreload\n",
    "%autoreload 2\n",
    "import pandas as pd\n",
    "import re\n",
    "import string\n",
    "from nltk.stem import PorterStemmer\n",
    "import nltk\n",
    "from vaderSentiment.vaderSentiment import SentimentIntensityAnalyzer\n",
    "import twint\n",
    "import pandas as pd\n",
    "import sys\n",
    "sys.path.append(\"twint/\")"
   ]
  },
  {
   "cell_type": "code",
   "execution_count": 80,
   "metadata": {},
   "outputs": [],
   "source": [
    "import nest_asyncio\n",
    "nest_asyncio.apply()"
   ]
  },
  {
   "cell_type": "markdown",
   "metadata": {},
   "source": [
    "## Using twint Library, we will scrap twitter searching for Tweets related to Bitcoin "
   ]
  },
  {
   "cell_type": "code",
   "execution_count": 81,
   "metadata": {},
   "outputs": [],
   "source": [
    "c = twint.Config()\n",
    "c.Search = ['Bitcoin']# topic\n",
    "c.Limit = 5000   # number of Tweets to scrape\n",
    "# c.Pandas_clean = 'pandas-clean' /  optional \n",
    "c.Pandas = True\n",
    " # if you like to scrap from specific time uncoment and change these \n",
    "# c.Since = '2021-10-15' \n",
    "# c.Until = '2021-10-20'\n",
    "\n",
    "c.Store_csv = True       # store tweets in a csv file\n",
    "c.Output = \"Bitcoin2.csv\"     # path to csv file\n"
   ]
  },
  {
   "cell_type": "markdown",
   "metadata": {},
   "source": [
    "## Begin the search "
   ]
  },
  {
   "cell_type": "code",
   "execution_count": null,
   "metadata": {},
   "outputs": [],
   "source": [
    "twint.run.Search(c)"
   ]
  },
  {
   "cell_type": "markdown",
   "metadata": {},
   "source": [
    "## Organize the dataframe columns`"
   ]
  },
  {
   "cell_type": "code",
   "execution_count": 7,
   "metadata": {},
   "outputs": [],
   "source": [
    "def available_columns():\n",
    "    return twint.output.panda.Tweets_df.columns"
   ]
  },
  {
   "cell_type": "code",
   "execution_count": 8,
   "metadata": {},
   "outputs": [],
   "source": [
    "def twint_to_pandas(columns):\n",
    "    return twint.output.panda.Tweets_df[columns]"
   ]
  },
  {
   "cell_type": "code",
   "execution_count": 9,
   "metadata": {},
   "outputs": [
    {
     "data": {
      "text/plain": [
       "Index(['id', 'conversation_id', 'created_at', 'date', 'timezone', 'place',\n",
       "       'tweet', 'language', 'hashtags', 'cashtags', 'user_id', 'user_id_str',\n",
       "       'username', 'name', 'day', 'hour', 'link', 'urls', 'photos', 'video',\n",
       "       'thumbnail', 'retweet', 'nlikes', 'nreplies', 'nretweets', 'quote_url',\n",
       "       'search', 'near', 'geo', 'source', 'user_rt_id', 'user_rt',\n",
       "       'retweet_id', 'reply_to', 'retweet_date', 'translate', 'trans_src',\n",
       "       'trans_dest'],\n",
       "      dtype='object')"
      ]
     },
     "execution_count": 9,
     "metadata": {},
     "output_type": "execute_result"
    }
   ],
   "source": [
    "available_columns()"
   ]
  },
  {
   "cell_type": "markdown",
   "metadata": {},
   "source": [
    "## Get the columns of interest "
   ]
  },
  {
   "cell_type": "code",
   "execution_count": 10,
   "metadata": {},
   "outputs": [
    {
     "data": {
      "text/html": [
       "<div>\n",
       "<style scoped>\n",
       "    .dataframe tbody tr th:only-of-type {\n",
       "        vertical-align: middle;\n",
       "    }\n",
       "\n",
       "    .dataframe tbody tr th {\n",
       "        vertical-align: top;\n",
       "    }\n",
       "\n",
       "    .dataframe thead th {\n",
       "        text-align: right;\n",
       "    }\n",
       "</style>\n",
       "<table border=\"1\" class=\"dataframe\">\n",
       "  <thead>\n",
       "    <tr style=\"text-align: right;\">\n",
       "      <th></th>\n",
       "      <th>date</th>\n",
       "      <th>username</th>\n",
       "      <th>tweet</th>\n",
       "      <th>hashtags</th>\n",
       "      <th>nlikes</th>\n",
       "    </tr>\n",
       "  </thead>\n",
       "  <tbody>\n",
       "    <tr>\n",
       "      <th>0</th>\n",
       "      <td>2021-10-22 12:52:44</td>\n",
       "      <td>sbbot123</td>\n",
       "      <td>Crypto Prices (USD/₿)  Bitcoin ➦ $63227.6859➶ ...</td>\n",
       "      <td>[crypto, bitcoin, ethereum, binance, cardano, ...</td>\n",
       "      <td>0</td>\n",
       "    </tr>\n",
       "    <tr>\n",
       "      <th>1</th>\n",
       "      <td>2021-10-22 12:52:42</td>\n",
       "      <td>BlogiBossaPL</td>\n",
       "      <td>@PaweIZawadzki @burns66675164 Powód zasadniczy...</td>\n",
       "      <td>[]</td>\n",
       "      <td>0</td>\n",
       "    </tr>\n",
       "    <tr>\n",
       "      <th>2</th>\n",
       "      <td>2021-10-22 12:52:42</td>\n",
       "      <td>Bokiko_io</td>\n",
       "      <td>Weekly Fees: Sum of total fees spent to use a ...</td>\n",
       "      <td>[btc, eth]</td>\n",
       "      <td>0</td>\n",
       "    </tr>\n",
       "    <tr>\n",
       "      <th>3</th>\n",
       "      <td>2021-10-22 12:52:40</td>\n",
       "      <td>DerekTMcKinney</td>\n",
       "      <td>🤓🤔👍 #knownews #AMBCrypto #bitcoin #bnb #Crypto...</td>\n",
       "      <td>[knownews, ambcrypto, bitcoin, bnb, cryptocurr...</td>\n",
       "      <td>0</td>\n",
       "    </tr>\n",
       "    <tr>\n",
       "      <th>4</th>\n",
       "      <td>2021-10-22 12:52:36</td>\n",
       "      <td>Bitcoinesque1</td>\n",
       "      <td>@firma_firm @A4lfr32 @SoulsOfEarth @newjerseyw...</td>\n",
       "      <td>[]</td>\n",
       "      <td>0</td>\n",
       "    </tr>\n",
       "    <tr>\n",
       "      <th>...</th>\n",
       "      <td>...</td>\n",
       "      <td>...</td>\n",
       "      <td>...</td>\n",
       "      <td>...</td>\n",
       "      <td>...</td>\n",
       "    </tr>\n",
       "    <tr>\n",
       "      <th>1006</th>\n",
       "      <td>2021-10-22 12:36:22</td>\n",
       "      <td>TOVANLEN2</td>\n",
       "      <td>@FollowTop_nft Thank you for the opportunity. ...</td>\n",
       "      <td>[airdrop, airdrops, airdropinspector, followpr...</td>\n",
       "      <td>0</td>\n",
       "    </tr>\n",
       "    <tr>\n",
       "      <th>1007</th>\n",
       "      <td>2021-10-22 12:36:21</td>\n",
       "      <td>bmurphypointman</td>\n",
       "      <td>#marketing #bitcoin #tumblr #twitter #facebook...</td>\n",
       "      <td>[marketing, bitcoin, tumblr, twitter, facebook...</td>\n",
       "      <td>0</td>\n",
       "    </tr>\n",
       "    <tr>\n",
       "      <th>1008</th>\n",
       "      <td>2021-10-22 12:36:21</td>\n",
       "      <td>bmurphypointman</td>\n",
       "      <td>#affilate #earnmoney #affiliateprograms #affil...</td>\n",
       "      <td>[affilate, earnmoney, affiliateprograms, affil...</td>\n",
       "      <td>0</td>\n",
       "    </tr>\n",
       "    <tr>\n",
       "      <th>1009</th>\n",
       "      <td>2021-10-22 12:36:20</td>\n",
       "      <td>bmurphypointman</td>\n",
       "      <td>#linkedin #shoppingtime #twitter #facebook #in...</td>\n",
       "      <td>[linkedin, shoppingtime, twitter, facebook, in...</td>\n",
       "      <td>0</td>\n",
       "    </tr>\n",
       "    <tr>\n",
       "      <th>1010</th>\n",
       "      <td>2021-10-22 12:36:20</td>\n",
       "      <td>bmurphypointman</td>\n",
       "      <td>#tumblr #shoppingtime #twitter #facebook #inst...</td>\n",
       "      <td>[tumblr, shoppingtime, twitter, facebook, inst...</td>\n",
       "      <td>0</td>\n",
       "    </tr>\n",
       "  </tbody>\n",
       "</table>\n",
       "<p>1011 rows × 5 columns</p>\n",
       "</div>"
      ],
      "text/plain": [
       "                     date         username  \\\n",
       "0     2021-10-22 12:52:44         sbbot123   \n",
       "1     2021-10-22 12:52:42     BlogiBossaPL   \n",
       "2     2021-10-22 12:52:42        Bokiko_io   \n",
       "3     2021-10-22 12:52:40   DerekTMcKinney   \n",
       "4     2021-10-22 12:52:36    Bitcoinesque1   \n",
       "...                   ...              ...   \n",
       "1006  2021-10-22 12:36:22        TOVANLEN2   \n",
       "1007  2021-10-22 12:36:21  bmurphypointman   \n",
       "1008  2021-10-22 12:36:21  bmurphypointman   \n",
       "1009  2021-10-22 12:36:20  bmurphypointman   \n",
       "1010  2021-10-22 12:36:20  bmurphypointman   \n",
       "\n",
       "                                                  tweet  \\\n",
       "0     Crypto Prices (USD/₿)  Bitcoin ➦ $63227.6859➶ ...   \n",
       "1     @PaweIZawadzki @burns66675164 Powód zasadniczy...   \n",
       "2     Weekly Fees: Sum of total fees spent to use a ...   \n",
       "3     🤓🤔👍 #knownews #AMBCrypto #bitcoin #bnb #Crypto...   \n",
       "4     @firma_firm @A4lfr32 @SoulsOfEarth @newjerseyw...   \n",
       "...                                                 ...   \n",
       "1006  @FollowTop_nft Thank you for the opportunity. ...   \n",
       "1007  #marketing #bitcoin #tumblr #twitter #facebook...   \n",
       "1008  #affilate #earnmoney #affiliateprograms #affil...   \n",
       "1009  #linkedin #shoppingtime #twitter #facebook #in...   \n",
       "1010  #tumblr #shoppingtime #twitter #facebook #inst...   \n",
       "\n",
       "                                               hashtags  nlikes  \n",
       "0     [crypto, bitcoin, ethereum, binance, cardano, ...       0  \n",
       "1                                                    []       0  \n",
       "2                                            [btc, eth]       0  \n",
       "3     [knownews, ambcrypto, bitcoin, bnb, cryptocurr...       0  \n",
       "4                                                    []       0  \n",
       "...                                                 ...     ...  \n",
       "1006  [airdrop, airdrops, airdropinspector, followpr...       0  \n",
       "1007  [marketing, bitcoin, tumblr, twitter, facebook...       0  \n",
       "1008  [affilate, earnmoney, affiliateprograms, affil...       0  \n",
       "1009  [linkedin, shoppingtime, twitter, facebook, in...       0  \n",
       "1010  [tumblr, shoppingtime, twitter, facebook, inst...       0  \n",
       "\n",
       "[1011 rows x 5 columns]"
      ]
     },
     "execution_count": 10,
     "metadata": {},
     "output_type": "execute_result"
    }
   ],
   "source": [
    "df_pd = twint_to_pandas([\"date\", \"username\", \"tweet\", \"hashtags\", \"nlikes\"])\n",
    "df_pd"
   ]
  },
  {
   "cell_type": "markdown",
   "metadata": {},
   "source": [
    "## We will use only tweet column here "
   ]
  },
  {
   "cell_type": "code",
   "execution_count": 35,
   "metadata": {
    "scrolled": true
   },
   "outputs": [
    {
     "data": {
      "text/plain": [
       "0       Crypto Prices (USD/₿)  Bitcoin ➦ $63227.6859➶ ...\n",
       "1       @PaweIZawadzki @burns66675164 Powód zasadniczy...\n",
       "2       Weekly Fees: Sum of total fees spent to use a ...\n",
       "3       🤓🤔👍 #knownews #AMBCrypto #bitcoin #bnb #Crypto...\n",
       "4       @firma_firm @A4lfr32 @SoulsOfEarth @newjerseyw...\n",
       "                              ...                        \n",
       "1006    @FollowTop_nft Thank you for the opportunity. ...\n",
       "1007    #marketing #bitcoin #tumblr #twitter #facebook...\n",
       "1008    #affilate #earnmoney #affiliateprograms #affil...\n",
       "1009    #linkedin #shoppingtime #twitter #facebook #in...\n",
       "1010    #tumblr #shoppingtime #twitter #facebook #inst...\n",
       "Name: tweet, Length: 1011, dtype: object"
      ]
     },
     "execution_count": 35,
     "metadata": {},
     "output_type": "execute_result"
    }
   ],
   "source": [
    "tweet= df_pd['tweet']\n",
    "tweet"
   ]
  },
  {
   "cell_type": "markdown",
   "metadata": {},
   "source": [
    "## Show some results for tweet "
   ]
  },
  {
   "cell_type": "code",
   "execution_count": 56,
   "metadata": {},
   "outputs": [
    {
     "name": "stdout",
     "output_type": "stream",
     "text": [
      "Totale Number of tweets =  1011\n",
      "Postive tweets =  435  ||| Per 43 %\n",
      "Negative Tweets =  157  ||| Per 15 %\n",
      "Neutral tweets =  419  ||| Per 41 %\n",
      "\n"
     ]
    }
   ],
   "source": [
    "n_tweets = 0\n",
    "Positive = 0\n",
    "Negative = 0\n",
    "Neutral = 0\n",
    "\n",
    "sid_obj = SentimentIntensityAnalyzer()\n",
    "\n",
    "for col in tweet.iteritems():\n",
    "    n_tweets+=1\n",
    "\n",
    "\n",
    "    sentiment_dict = sid_obj.polarity_scores(col[1])\n",
    "     \n",
    "    # decide sentiment as positive, negative and neutral\n",
    "    if sentiment_dict['compound'] >= 0.05 :\n",
    "        #print(\"Positive\")\n",
    "        Positive+=1\n",
    " \n",
    "    elif sentiment_dict['compound'] <= - 0.05 :\n",
    "        #print(\"Negative\")\n",
    "        Negative+=1\n",
    " \n",
    "    else :\n",
    "        #print(\"Neutral\")\n",
    "        Neutral+=1\n",
    "\n",
    "print('Totale Number of tweets = ',n_tweets)  \n",
    "print('Postive tweets = ',Positive, ' ||| Per',int(Positive*100.0 / n_tweets),'%' )\n",
    "print('Negative Tweets = ',Negative, ' ||| Per',int(Negative*100.0 / n_tweets),'%')\n",
    "print('Neutral tweets = ',Neutral, ' ||| Per',int(Neutral*100.0 / n_tweets),'%')\n",
    "print()"
   ]
  },
  {
   "cell_type": "code",
   "execution_count": 59,
   "metadata": {},
   "outputs": [
    {
     "name": "stdout",
     "output_type": "stream",
     "text": [
      "I really love that shirt at\n",
      "Titanic tragedy could have been prevented Economic Times Telegraph co ukTitanic tragedy could have been preve\n",
      "I am at Starbucks 7419 3rd ave at 75th Brooklyn\n"
     ]
    }
   ],
   "source": [
    "import re,string\n",
    "\n",
    "def strip_links(text):\n",
    "    link_regex    = re.compile('((https?):((//)|(\\\\\\\\))+([\\w\\d:#@%/;$()~_?\\+-=\\\\\\.&](#!)?)*)', re.DOTALL)\n",
    "    links         = re.findall(link_regex, text)\n",
    "    for link in links:\n",
    "        text = text.replace(link[0], ', ')    \n",
    "    return text\n",
    "\n",
    "def strip_all_entities(text):\n",
    "    entity_prefixes = ['@','#']\n",
    "    for separator in  string.punctuation:\n",
    "        if separator not in entity_prefixes :\n",
    "            text = text.replace(separator,' ')\n",
    "    words = []\n",
    "    for word in text.split():\n",
    "        word = word.strip()\n",
    "        if word:\n",
    "            if word[0] not in entity_prefixes:\n",
    "                words.append(word)\n",
    "    return ' '.join(words)\n",
    "\n",
    "\n",
    "tests = [\n",
    "    \"@peter I really love that shirt at #Macy. http://bet.ly//WjdiW4\",\n",
    "    \"@shawn Titanic tragedy could have been prevented Economic Times: Telegraph.co.ukTitanic tragedy could have been preve... http://bet.ly/tuN2wx\",\n",
    "    \"I am at Starbucks http://4sh.com/samqUI (7419 3rd ave, at 75th, Brooklyn)\"]\n",
    "\n",
    "for t in tests:\n",
    "    a = strip_all_entities(strip_links(t))\n",
    "    print(a)"
   ]
  },
  {
   "cell_type": "code",
   "execution_count": 65,
   "metadata": {},
   "outputs": [],
   "source": [
    "clean_tweets = []\n",
    "for col in tweet.iteritems():\n",
    "    clean = strip_all_entities(col[1])\n",
    "    clean_tweets.append(clean)\n",
    "    \n",
    "df_tweet = pd.DataFrame (clean_tweets, columns = ['tweets'])    "
   ]
  },
  {
   "cell_type": "code",
   "execution_count": 74,
   "metadata": {},
   "outputs": [
    {
     "data": {
      "text/html": [
       "<div>\n",
       "<style scoped>\n",
       "    .dataframe tbody tr th:only-of-type {\n",
       "        vertical-align: middle;\n",
       "    }\n",
       "\n",
       "    .dataframe tbody tr th {\n",
       "        vertical-align: top;\n",
       "    }\n",
       "\n",
       "    .dataframe thead th {\n",
       "        text-align: right;\n",
       "    }\n",
       "</style>\n",
       "<table border=\"1\" class=\"dataframe\">\n",
       "  <thead>\n",
       "    <tr style=\"text-align: right;\">\n",
       "      <th></th>\n",
       "      <th>tweets</th>\n",
       "    </tr>\n",
       "  </thead>\n",
       "  <tbody>\n",
       "    <tr>\n",
       "      <th>0</th>\n",
       "      <td>Crypto Prices USD ₿ Bitcoin ➦ 63227 6859➶ Ethe...</td>\n",
       "    </tr>\n",
       "    <tr>\n",
       "      <th>1</th>\n",
       "      <td>Powód zasadniczy zmieniły się zasady gry bo bi...</td>\n",
       "    </tr>\n",
       "    <tr>\n",
       "      <th>2</th>\n",
       "      <td>Weekly Fees Sum of total fees spent to use a p...</td>\n",
       "    </tr>\n",
       "    <tr>\n",
       "      <th>3</th>\n",
       "      <td>🤓🤔👍 ArbiSmart’s token provides an investment o...</td>\n",
       "    </tr>\n",
       "    <tr>\n",
       "      <th>4</th>\n",
       "      <td>firm You see the purpose of bitcoin is to make...</td>\n",
       "    </tr>\n",
       "    <tr>\n",
       "      <th>...</th>\n",
       "      <td>...</td>\n",
       "    </tr>\n",
       "    <tr>\n",
       "      <th>1006</th>\n",
       "      <td>nft Thank you for the opportunity I hope this ...</td>\n",
       "    </tr>\n",
       "    <tr>\n",
       "      <th>1007</th>\n",
       "      <td>on orders over 99 at https t co FsGWUaZyeH</td>\n",
       "    </tr>\n",
       "    <tr>\n",
       "      <th>1008</th>\n",
       "      <td>Check my website for https t co vBHLD11zwQ</td>\n",
       "    </tr>\n",
       "    <tr>\n",
       "      <th>1009</th>\n",
       "      <td>Enjoy 10 off Orders of 50 Use code IR10 https ...</td>\n",
       "    </tr>\n",
       "    <tr>\n",
       "      <th>1010</th>\n",
       "      <td>on purchases over 25 at https t co EynvCaoEnT</td>\n",
       "    </tr>\n",
       "  </tbody>\n",
       "</table>\n",
       "<p>1011 rows × 1 columns</p>\n",
       "</div>"
      ],
      "text/plain": [
       "                                                 tweets\n",
       "0     Crypto Prices USD ₿ Bitcoin ➦ 63227 6859➶ Ethe...\n",
       "1     Powód zasadniczy zmieniły się zasady gry bo bi...\n",
       "2     Weekly Fees Sum of total fees spent to use a p...\n",
       "3     🤓🤔👍 ArbiSmart’s token provides an investment o...\n",
       "4     firm You see the purpose of bitcoin is to make...\n",
       "...                                                 ...\n",
       "1006  nft Thank you for the opportunity I hope this ...\n",
       "1007         on orders over 99 at https t co FsGWUaZyeH\n",
       "1008         Check my website for https t co vBHLD11zwQ\n",
       "1009  Enjoy 10 off Orders of 50 Use code IR10 https ...\n",
       "1010      on purchases over 25 at https t co EynvCaoEnT\n",
       "\n",
       "[1011 rows x 1 columns]"
      ]
     },
     "execution_count": 74,
     "metadata": {},
     "output_type": "execute_result"
    }
   ],
   "source": [
    "df_tweet"
   ]
  },
  {
   "cell_type": "code",
   "execution_count": 78,
   "metadata": {},
   "outputs": [
    {
     "name": "stdout",
     "output_type": "stream",
     "text": [
      "Totale Number of tweets =  1011\n",
      "Postive tweets =  419  ||| Per 41 %\n",
      "Negative Tweets =  165  ||| Per 16 %\n",
      "Neutral tweets =  427  ||| Per 42 %\n",
      "\n"
     ]
    }
   ],
   "source": [
    "n_tweets = 0\n",
    "Positive = 0\n",
    "Negative = 0\n",
    "Neutral = 0\n",
    "\n",
    "sid_obj = SentimentIntensityAnalyzer()\n",
    "\n",
    "for col in clean_tweets:\n",
    "    n_tweets+=1\n",
    "\n",
    "\n",
    "    sentiment_dict = sid_obj.polarity_scores(col)\n",
    "     \n",
    "    # decide sentiment as positive, negative and neutral\n",
    "    if sentiment_dict['compound'] >= 0.05 :\n",
    "        #print(\"Positive\")\n",
    "        Positive+=1\n",
    " \n",
    "    elif sentiment_dict['compound'] <= - 0.05 :\n",
    "        #print(\"Negative\")\n",
    "        Negative+=1\n",
    " \n",
    "    else :\n",
    "        #print(\"Neutral\")\n",
    "        Neutral+=1\n",
    "\n",
    "print('Totale Number of tweets = ',n_tweets)  \n",
    "print('Postive tweets = ',Positive, ' ||| Per',int(Positive*100.0 / n_tweets),'%' )\n",
    "print('Negative Tweets = ',Negative, ' ||| Per',int(Negative*100.0 / n_tweets),'%')\n",
    "print('Neutral tweets = ',Neutral, ' ||| Per',int(Neutral*100.0 / n_tweets),'%')\n",
    "print()"
   ]
  },
  {
   "cell_type": "code",
   "execution_count": 86,
   "metadata": {},
   "outputs": [
    {
     "name": "stdout",
     "output_type": "stream",
     "text": [
      "Sentiment(polarity=-0.05, subjectivity=0.425)\n"
     ]
    }
   ],
   "source": [
    "from textblob import TextBlob\n",
    "obj = TextBlob( \"Weekly Fees Sum of total fees spent to use a p...\" )\n",
    "\n",
    "print(obj.sentiment)"
   ]
  },
  {
   "cell_type": "code",
   "execution_count": 95,
   "metadata": {},
   "outputs": [
    {
     "name": "stdout",
     "output_type": "stream",
     "text": [
      "Totale Number of tweets =  1011\n",
      "Postive tweets =  383  ||| Per 37 %\n",
      "Negative Tweets =  67  ||| Per 6 %\n",
      "Neutral tweets =  561  ||| Per 55 %\n",
      "\n"
     ]
    }
   ],
   "source": [
    "n_tweets = 0\n",
    "Positive = 0\n",
    "Negative = 0\n",
    "Neutral = 0\n",
    "\n",
    "\n",
    "for col in clean_tweets:\n",
    "    n_tweets+=1\n",
    "\n",
    "\n",
    "    sentiment_dict = TextBlob(col)\n",
    "    #print(sentiment_dict.sentiment[1])\n",
    "     \n",
    "    # decide sentiment as positive, negative and neutral\n",
    "    if sentiment_dict.sentiment[0] >= 0.05 :\n",
    "        #print(\"Positive\")\n",
    "        Positive+=1\n",
    " \n",
    "    elif sentiment_dict.sentiment[0] <= - 0.05 :\n",
    "        #print(\"Negative\")\n",
    "        Negative+=1\n",
    " \n",
    "    else :\n",
    "        #print(\"Neutral\")\n",
    "        Neutral+=1\n",
    "\n",
    "print('Totale Number of tweets = ',n_tweets)  \n",
    "print('Postive tweets = ',Positive, ' ||| Per',int(Positive*100.0 / n_tweets),'%' )\n",
    "print('Negative Tweets = ',Negative, ' ||| Per',int(Negative*100.0 / n_tweets),'%')\n",
    "print('Neutral tweets = ',Neutral, ' ||| Per',int(Neutral*100.0 / n_tweets),'%')\n",
    "print()"
   ]
  },
  {
   "cell_type": "code",
   "execution_count": null,
   "metadata": {},
   "outputs": [],
   "source": []
  }
 ],
 "metadata": {
  "kernelspec": {
   "display_name": "Python 3",
   "language": "python",
   "name": "python3"
  },
  "language_info": {
   "codemirror_mode": {
    "name": "ipython",
    "version": 3
   },
   "file_extension": ".py",
   "mimetype": "text/x-python",
   "name": "python",
   "nbconvert_exporter": "python",
   "pygments_lexer": "ipython3",
   "version": "3.8.5"
  }
 },
 "nbformat": 4,
 "nbformat_minor": 4
}
